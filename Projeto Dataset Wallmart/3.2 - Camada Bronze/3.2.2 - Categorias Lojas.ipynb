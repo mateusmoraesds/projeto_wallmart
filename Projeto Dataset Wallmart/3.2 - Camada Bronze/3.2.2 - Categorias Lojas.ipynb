{
 "cells": [
  {
   "cell_type": "markdown",
   "metadata": {
    "application/vnd.databricks.v1+cell": {
     "cellMetadata": {
      "byteLimit": 2048000,
      "rowLimit": 10000
     },
     "inputWidgets": {},
     "nuid": "4bb1fe34-d833-4c6d-9ca1-60f31d5f076a",
     "showTitle": false,
     "tableResultSettingsMap": {},
     "title": ""
    }
   },
   "source": [
    "# 3.2.2 - Tabela Categorias Lojas\n",
    "Notebook para tratar e disponibilizar a tabela de categorias de lojas. "
   ]
  },
  {
   "cell_type": "code",
   "execution_count": 0,
   "metadata": {
    "application/vnd.databricks.v1+cell": {
     "cellMetadata": {
      "byteLimit": 2048000,
      "rowLimit": 10000
     },
     "inputWidgets": {},
     "nuid": "d74c5b82-3112-4ab8-a3db-30e1b94c62e3",
     "showTitle": true,
     "tableResultSettingsMap": {},
     "title": "Carregamento das Funções Comuns"
    }
   },
   "outputs": [],
   "source": [
    "%run \"/3.0 Wallmart Dataset/3.1 - Autenticações e Funções/3.1.2 - Funções comuns\""
   ]
  },
  {
   "cell_type": "code",
   "execution_count": 0,
   "metadata": {
    "application/vnd.databricks.v1+cell": {
     "cellMetadata": {
      "byteLimit": 2048000,
      "rowLimit": 10000
     },
     "inputWidgets": {},
     "nuid": "bf081174-d35d-4055-932f-0f4d09c7fdc1",
     "showTitle": true,
     "tableResultSettingsMap": {},
     "title": "Carregamento das Funções específicas"
    }
   },
   "outputs": [],
   "source": [
    "#Importação dos tipos de dados\n",
    "from pyspark.sql.types import StructType, StructField, IntegerType, StringType, DoubleType, DecimalType\n",
    "from pyspark.sql.functions import col, current_timestamp\n",
    "from pyspark.sql.functions import lit\n"
   ]
  },
  {
   "cell_type": "code",
   "execution_count": 0,
   "metadata": {
    "application/vnd.databricks.v1+cell": {
     "cellMetadata": {
      "byteLimit": 2048000,
      "rowLimit": 10000
     },
     "inputWidgets": {},
     "nuid": "ce627396-7f53-446e-84cf-9f2cd7291345",
     "showTitle": true,
     "tableResultSettingsMap": {},
     "title": "Estruturação da tabela"
    }
   },
   "outputs": [],
   "source": [
    "#estruturação da tabela\n",
    "stores_schema = StructType(fields=[StructField(\"Store\",IntegerType(),False),\n",
    "                                     StructField(\"Type\",StringType(),True),\n",
    "                                     StructField(\"Size\",IntegerType(),True)\n",
    "                                     ]\n",
    "                            ) \n",
    "                                     "
   ]
  },
  {
   "cell_type": "code",
   "execution_count": 0,
   "metadata": {
    "application/vnd.databricks.v1+cell": {
     "cellMetadata": {
      "byteLimit": 2048000,
      "rowLimit": 10000
     },
     "inputWidgets": {},
     "nuid": "3b6dffad-5902-4255-a94f-7e7a26d35bf3",
     "showTitle": true,
     "tableResultSettingsMap": {},
     "title": "Carregamento da tabela csv"
    }
   },
   "outputs": [
    {
     "output_type": "stream",
     "name": "stdout",
     "output_type": "stream",
     "text": [
      "DataFrame[Store: int, Type: string, Size: int]\n"
     ]
    }
   ],
   "source": [
    "df1 = spark.read.csv('file:/dbfs/FileStore/kaggle_datasets/stores.csv', header=True, inferSchema=True)\n",
    "\n",
    "print(df1)"
   ]
  },
  {
   "cell_type": "code",
   "execution_count": 0,
   "metadata": {
    "application/vnd.databricks.v1+cell": {
     "cellMetadata": {
      "byteLimit": 2048000,
      "rowLimit": 10000
     },
     "inputWidgets": {},
     "nuid": "24a6b933-feb9-4746-a7ce-51de75ffd669",
     "showTitle": true,
     "tableResultSettingsMap": {},
     "title": "Adição do ingestion date, origem db e ID e gravação em parquet"
    }
   },
   "outputs": [
    {
     "output_type": "display_data",
     "data": {
      "text/html": [
       "<style scoped>\n",
       "  .table-result-container {\n",
       "    max-height: 300px;\n",
       "    overflow: auto;\n",
       "  }\n",
       "  table, th, td {\n",
       "    border: 1px solid black;\n",
       "    border-collapse: collapse;\n",
       "  }\n",
       "  th, td {\n",
       "    padding: 5px;\n",
       "  }\n",
       "  th {\n",
       "    text-align: left;\n",
       "  }\n",
       "</style><div class='table-result-container'><table class='table-result'><thead style='background-color: white'><tr><th>ID_Store</th><th>Origem_db</th><th>Store</th><th>Type</th><th>Size</th><th>ingestion_date</th></tr></thead><tbody><tr><td>10001</td><td>Kaggle_API</td><td>1</td><td>A</td><td>151315</td><td>2025-01-12T23:31:32.575+0000</td></tr><tr><td>10002</td><td>Kaggle_API</td><td>2</td><td>A</td><td>202307</td><td>2025-01-12T23:31:32.575+0000</td></tr><tr><td>10003</td><td>Kaggle_API</td><td>3</td><td>B</td><td>37392</td><td>2025-01-12T23:31:32.575+0000</td></tr><tr><td>10004</td><td>Kaggle_API</td><td>4</td><td>A</td><td>205863</td><td>2025-01-12T23:31:32.575+0000</td></tr><tr><td>10005</td><td>Kaggle_API</td><td>5</td><td>B</td><td>34875</td><td>2025-01-12T23:31:32.575+0000</td></tr><tr><td>10006</td><td>Kaggle_API</td><td>6</td><td>A</td><td>202505</td><td>2025-01-12T23:31:32.575+0000</td></tr><tr><td>10007</td><td>Kaggle_API</td><td>7</td><td>B</td><td>70713</td><td>2025-01-12T23:31:32.575+0000</td></tr><tr><td>10008</td><td>Kaggle_API</td><td>8</td><td>A</td><td>155078</td><td>2025-01-12T23:31:32.575+0000</td></tr><tr><td>10009</td><td>Kaggle_API</td><td>9</td><td>B</td><td>125833</td><td>2025-01-12T23:31:32.575+0000</td></tr><tr><td>10010</td><td>Kaggle_API</td><td>10</td><td>B</td><td>126512</td><td>2025-01-12T23:31:32.575+0000</td></tr><tr><td>10011</td><td>Kaggle_API</td><td>11</td><td>A</td><td>207499</td><td>2025-01-12T23:31:32.575+0000</td></tr><tr><td>10012</td><td>Kaggle_API</td><td>12</td><td>B</td><td>112238</td><td>2025-01-12T23:31:32.575+0000</td></tr><tr><td>10013</td><td>Kaggle_API</td><td>13</td><td>A</td><td>219622</td><td>2025-01-12T23:31:32.575+0000</td></tr><tr><td>10014</td><td>Kaggle_API</td><td>14</td><td>A</td><td>200898</td><td>2025-01-12T23:31:32.575+0000</td></tr><tr><td>10015</td><td>Kaggle_API</td><td>15</td><td>B</td><td>123737</td><td>2025-01-12T23:31:32.575+0000</td></tr><tr><td>10016</td><td>Kaggle_API</td><td>16</td><td>B</td><td>57197</td><td>2025-01-12T23:31:32.575+0000</td></tr><tr><td>10017</td><td>Kaggle_API</td><td>17</td><td>B</td><td>93188</td><td>2025-01-12T23:31:32.575+0000</td></tr><tr><td>10018</td><td>Kaggle_API</td><td>18</td><td>B</td><td>120653</td><td>2025-01-12T23:31:32.575+0000</td></tr><tr><td>10019</td><td>Kaggle_API</td><td>19</td><td>A</td><td>203819</td><td>2025-01-12T23:31:32.575+0000</td></tr><tr><td>10020</td><td>Kaggle_API</td><td>20</td><td>A</td><td>203742</td><td>2025-01-12T23:31:32.575+0000</td></tr><tr><td>10021</td><td>Kaggle_API</td><td>21</td><td>B</td><td>140167</td><td>2025-01-12T23:31:32.575+0000</td></tr><tr><td>10022</td><td>Kaggle_API</td><td>22</td><td>B</td><td>119557</td><td>2025-01-12T23:31:32.575+0000</td></tr><tr><td>10023</td><td>Kaggle_API</td><td>23</td><td>B</td><td>114533</td><td>2025-01-12T23:31:32.575+0000</td></tr><tr><td>10024</td><td>Kaggle_API</td><td>24</td><td>A</td><td>203819</td><td>2025-01-12T23:31:32.575+0000</td></tr><tr><td>10025</td><td>Kaggle_API</td><td>25</td><td>B</td><td>128107</td><td>2025-01-12T23:31:32.575+0000</td></tr><tr><td>10026</td><td>Kaggle_API</td><td>26</td><td>A</td><td>152513</td><td>2025-01-12T23:31:32.575+0000</td></tr><tr><td>10027</td><td>Kaggle_API</td><td>27</td><td>A</td><td>204184</td><td>2025-01-12T23:31:32.575+0000</td></tr><tr><td>10028</td><td>Kaggle_API</td><td>28</td><td>A</td><td>206302</td><td>2025-01-12T23:31:32.575+0000</td></tr><tr><td>10029</td><td>Kaggle_API</td><td>29</td><td>B</td><td>93638</td><td>2025-01-12T23:31:32.575+0000</td></tr><tr><td>10030</td><td>Kaggle_API</td><td>30</td><td>C</td><td>42988</td><td>2025-01-12T23:31:32.575+0000</td></tr><tr><td>10031</td><td>Kaggle_API</td><td>31</td><td>A</td><td>203750</td><td>2025-01-12T23:31:32.575+0000</td></tr><tr><td>10032</td><td>Kaggle_API</td><td>32</td><td>A</td><td>203007</td><td>2025-01-12T23:31:32.575+0000</td></tr><tr><td>10033</td><td>Kaggle_API</td><td>33</td><td>A</td><td>39690</td><td>2025-01-12T23:31:32.575+0000</td></tr><tr><td>10034</td><td>Kaggle_API</td><td>34</td><td>A</td><td>158114</td><td>2025-01-12T23:31:32.575+0000</td></tr><tr><td>10035</td><td>Kaggle_API</td><td>35</td><td>B</td><td>103681</td><td>2025-01-12T23:31:32.575+0000</td></tr><tr><td>10036</td><td>Kaggle_API</td><td>36</td><td>A</td><td>39910</td><td>2025-01-12T23:31:32.575+0000</td></tr><tr><td>10037</td><td>Kaggle_API</td><td>37</td><td>C</td><td>39910</td><td>2025-01-12T23:31:32.575+0000</td></tr><tr><td>10038</td><td>Kaggle_API</td><td>38</td><td>C</td><td>39690</td><td>2025-01-12T23:31:32.575+0000</td></tr><tr><td>10039</td><td>Kaggle_API</td><td>39</td><td>A</td><td>184109</td><td>2025-01-12T23:31:32.575+0000</td></tr><tr><td>10040</td><td>Kaggle_API</td><td>40</td><td>A</td><td>155083</td><td>2025-01-12T23:31:32.575+0000</td></tr><tr><td>10041</td><td>Kaggle_API</td><td>41</td><td>A</td><td>196321</td><td>2025-01-12T23:31:32.575+0000</td></tr><tr><td>10042</td><td>Kaggle_API</td><td>42</td><td>C</td><td>39690</td><td>2025-01-12T23:31:32.575+0000</td></tr><tr><td>10043</td><td>Kaggle_API</td><td>43</td><td>C</td><td>41062</td><td>2025-01-12T23:31:32.575+0000</td></tr><tr><td>10044</td><td>Kaggle_API</td><td>44</td><td>C</td><td>39910</td><td>2025-01-12T23:31:32.575+0000</td></tr><tr><td>10045</td><td>Kaggle_API</td><td>45</td><td>B</td><td>118221</td><td>2025-01-12T23:31:32.575+0000</td></tr></tbody></table></div>"
      ]
     },
     "metadata": {
      "application/vnd.databricks.v1+output": {
       "addedWidgets": {},
       "aggData": [],
       "aggError": "",
       "aggOverflow": false,
       "aggSchema": [],
       "aggSeriesLimitReached": false,
       "aggType": "",
       "arguments": {},
       "columnCustomDisplayInfos": {},
       "data": [
        [
         10001,
         "Kaggle_API",
         1,
         "A",
         151315,
         "2025-01-12T23:31:32.575+0000"
        ],
        [
         10002,
         "Kaggle_API",
         2,
         "A",
         202307,
         "2025-01-12T23:31:32.575+0000"
        ],
        [
         10003,
         "Kaggle_API",
         3,
         "B",
         37392,
         "2025-01-12T23:31:32.575+0000"
        ],
        [
         10004,
         "Kaggle_API",
         4,
         "A",
         205863,
         "2025-01-12T23:31:32.575+0000"
        ],
        [
         10005,
         "Kaggle_API",
         5,
         "B",
         34875,
         "2025-01-12T23:31:32.575+0000"
        ],
        [
         10006,
         "Kaggle_API",
         6,
         "A",
         202505,
         "2025-01-12T23:31:32.575+0000"
        ],
        [
         10007,
         "Kaggle_API",
         7,
         "B",
         70713,
         "2025-01-12T23:31:32.575+0000"
        ],
        [
         10008,
         "Kaggle_API",
         8,
         "A",
         155078,
         "2025-01-12T23:31:32.575+0000"
        ],
        [
         10009,
         "Kaggle_API",
         9,
         "B",
         125833,
         "2025-01-12T23:31:32.575+0000"
        ],
        [
         10010,
         "Kaggle_API",
         10,
         "B",
         126512,
         "2025-01-12T23:31:32.575+0000"
        ],
        [
         10011,
         "Kaggle_API",
         11,
         "A",
         207499,
         "2025-01-12T23:31:32.575+0000"
        ],
        [
         10012,
         "Kaggle_API",
         12,
         "B",
         112238,
         "2025-01-12T23:31:32.575+0000"
        ],
        [
         10013,
         "Kaggle_API",
         13,
         "A",
         219622,
         "2025-01-12T23:31:32.575+0000"
        ],
        [
         10014,
         "Kaggle_API",
         14,
         "A",
         200898,
         "2025-01-12T23:31:32.575+0000"
        ],
        [
         10015,
         "Kaggle_API",
         15,
         "B",
         123737,
         "2025-01-12T23:31:32.575+0000"
        ],
        [
         10016,
         "Kaggle_API",
         16,
         "B",
         57197,
         "2025-01-12T23:31:32.575+0000"
        ],
        [
         10017,
         "Kaggle_API",
         17,
         "B",
         93188,
         "2025-01-12T23:31:32.575+0000"
        ],
        [
         10018,
         "Kaggle_API",
         18,
         "B",
         120653,
         "2025-01-12T23:31:32.575+0000"
        ],
        [
         10019,
         "Kaggle_API",
         19,
         "A",
         203819,
         "2025-01-12T23:31:32.575+0000"
        ],
        [
         10020,
         "Kaggle_API",
         20,
         "A",
         203742,
         "2025-01-12T23:31:32.575+0000"
        ],
        [
         10021,
         "Kaggle_API",
         21,
         "B",
         140167,
         "2025-01-12T23:31:32.575+0000"
        ],
        [
         10022,
         "Kaggle_API",
         22,
         "B",
         119557,
         "2025-01-12T23:31:32.575+0000"
        ],
        [
         10023,
         "Kaggle_API",
         23,
         "B",
         114533,
         "2025-01-12T23:31:32.575+0000"
        ],
        [
         10024,
         "Kaggle_API",
         24,
         "A",
         203819,
         "2025-01-12T23:31:32.575+0000"
        ],
        [
         10025,
         "Kaggle_API",
         25,
         "B",
         128107,
         "2025-01-12T23:31:32.575+0000"
        ],
        [
         10026,
         "Kaggle_API",
         26,
         "A",
         152513,
         "2025-01-12T23:31:32.575+0000"
        ],
        [
         10027,
         "Kaggle_API",
         27,
         "A",
         204184,
         "2025-01-12T23:31:32.575+0000"
        ],
        [
         10028,
         "Kaggle_API",
         28,
         "A",
         206302,
         "2025-01-12T23:31:32.575+0000"
        ],
        [
         10029,
         "Kaggle_API",
         29,
         "B",
         93638,
         "2025-01-12T23:31:32.575+0000"
        ],
        [
         10030,
         "Kaggle_API",
         30,
         "C",
         42988,
         "2025-01-12T23:31:32.575+0000"
        ],
        [
         10031,
         "Kaggle_API",
         31,
         "A",
         203750,
         "2025-01-12T23:31:32.575+0000"
        ],
        [
         10032,
         "Kaggle_API",
         32,
         "A",
         203007,
         "2025-01-12T23:31:32.575+0000"
        ],
        [
         10033,
         "Kaggle_API",
         33,
         "A",
         39690,
         "2025-01-12T23:31:32.575+0000"
        ],
        [
         10034,
         "Kaggle_API",
         34,
         "A",
         158114,
         "2025-01-12T23:31:32.575+0000"
        ],
        [
         10035,
         "Kaggle_API",
         35,
         "B",
         103681,
         "2025-01-12T23:31:32.575+0000"
        ],
        [
         10036,
         "Kaggle_API",
         36,
         "A",
         39910,
         "2025-01-12T23:31:32.575+0000"
        ],
        [
         10037,
         "Kaggle_API",
         37,
         "C",
         39910,
         "2025-01-12T23:31:32.575+0000"
        ],
        [
         10038,
         "Kaggle_API",
         38,
         "C",
         39690,
         "2025-01-12T23:31:32.575+0000"
        ],
        [
         10039,
         "Kaggle_API",
         39,
         "A",
         184109,
         "2025-01-12T23:31:32.575+0000"
        ],
        [
         10040,
         "Kaggle_API",
         40,
         "A",
         155083,
         "2025-01-12T23:31:32.575+0000"
        ],
        [
         10041,
         "Kaggle_API",
         41,
         "A",
         196321,
         "2025-01-12T23:31:32.575+0000"
        ],
        [
         10042,
         "Kaggle_API",
         42,
         "C",
         39690,
         "2025-01-12T23:31:32.575+0000"
        ],
        [
         10043,
         "Kaggle_API",
         43,
         "C",
         41062,
         "2025-01-12T23:31:32.575+0000"
        ],
        [
         10044,
         "Kaggle_API",
         44,
         "C",
         39910,
         "2025-01-12T23:31:32.575+0000"
        ],
        [
         10045,
         "Kaggle_API",
         45,
         "B",
         118221,
         "2025-01-12T23:31:32.575+0000"
        ]
       ],
       "datasetInfos": [],
       "dbfsResultPath": null,
       "isJsonSchema": true,
       "metadata": {},
       "overflow": false,
       "plotOptions": {
        "customPlotOptions": {},
        "displayType": "table",
        "pivotAggregation": null,
        "pivotColumns": null,
        "xColumns": null,
        "yColumns": null
       },
       "removedWidgets": [],
       "schema": [
        {
         "metadata": "{}",
         "name": "ID_Store",
         "type": "\"integer\""
        },
        {
         "metadata": "{}",
         "name": "Origem_db",
         "type": "\"string\""
        },
        {
         "metadata": "{}",
         "name": "Store",
         "type": "\"integer\""
        },
        {
         "metadata": "{}",
         "name": "Type",
         "type": "\"string\""
        },
        {
         "metadata": "{}",
         "name": "Size",
         "type": "\"integer\""
        },
        {
         "metadata": "{}",
         "name": "ingestion_date",
         "type": "\"timestamp\""
        }
       ],
       "type": "table"
      }
     },
     "output_type": "display_data"
    }
   ],
   "source": [
    "stores_df = add_ingestion_date(df1)\n",
    "stores_df = stores_df.withColumn(\"ID_Store\", (lit(10000) + stores_df[\"Store\"]))\n",
    "stores_df = stores_df.withColumn(\"Origem_db\", lit(\"Kaggle_API\"))\n",
    "stores_df = stores_df.select(\"ID_Store\", \"Origem_db\", *[col for col in stores_df.columns if col not in [\"ID_Store\", \"Origem_db\"]])\n",
    "\n",
    "\n",
    "stores_df.write.mode(\"overwrite\").format(\"parquet\").saveAsTable(\"3_2_2_categorias_lojas\")\n",
    "display(stores_df)"
   ]
  }
 ],
 "metadata": {
  "application/vnd.databricks.v1+notebook": {
   "computePreferences": null,
   "dashboards": [],
   "environmentMetadata": null,
   "language": "python",
   "notebookMetadata": {
    "mostRecentlyExecutedCommandWithImplicitDF": {
     "commandId": 2556599564704210,
     "dataframes": [
      "_sqldf"
     ]
    },
    "pythonIndentUnit": 4
   },
   "notebookName": "3.2.2 - Categorias Lojas",
   "widgets": {}
  }
 },
 "nbformat": 4,
 "nbformat_minor": 0
}
