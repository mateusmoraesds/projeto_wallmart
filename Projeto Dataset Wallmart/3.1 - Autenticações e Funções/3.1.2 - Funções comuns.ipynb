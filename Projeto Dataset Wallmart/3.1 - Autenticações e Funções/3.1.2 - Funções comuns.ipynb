{
 "cells": [
  {
   "cell_type": "code",
   "execution_count": 0,
   "metadata": {
    "application/vnd.databricks.v1+cell": {
     "cellMetadata": {
      "byteLimit": 2048000,
      "rowLimit": 10000
     },
     "inputWidgets": {},
     "nuid": "71da097e-aa27-40e9-bd4d-8e40ae1c3b77",
     "showTitle": false,
     "tableResultSettingsMap": {},
     "title": ""
    }
   },
   "outputs": [],
   "source": [
    "from pyspark.sql.functions import current_timestamp\n",
    "def add_ingestion_date(input_df): ###Função para inserir a data de ingestão\n",
    "    output_df = input_df.withColumn(\"ingestion_date\",current_timestamp())\n",
    "    return output_df"
   ]
  }
 ],
 "metadata": {
  "application/vnd.databricks.v1+notebook": {
   "computePreferences": null,
   "dashboards": [],
   "environmentMetadata": {
    "base_environment": "",
    "client": "1"
   },
   "language": "python",
   "notebookMetadata": {
    "pythonIndentUnit": 4
   },
   "notebookName": "3.1.2 - Funções comuns",
   "widgets": {}
  }
 },
 "nbformat": 4,
 "nbformat_minor": 0
}
