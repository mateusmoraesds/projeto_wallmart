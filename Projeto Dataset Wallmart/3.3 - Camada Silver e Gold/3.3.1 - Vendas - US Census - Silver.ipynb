{
 "cells": [
  {
   "cell_type": "markdown",
   "metadata": {
    "application/vnd.databricks.v1+cell": {
     "cellMetadata": {
      "byteLimit": 2048000,
      "rowLimit": 10000
     },
     "inputWidgets": {},
     "nuid": "4bb1fe34-d833-4c6d-9ca1-60f31d5f076a",
     "showTitle": false,
     "tableResultSettingsMap": {},
     "title": ""
    }
   },
   "source": [
    "##3.3.1 - Vendas - US Census - Silver\n",
    "Autor: Mateus Moraes -\n",
    "Data de criação: 13/01/2025\n",
    " "
   ]
  },
  {
   "cell_type": "code",
   "execution_count": 0,
   "metadata": {
    "application/vnd.databricks.v1+cell": {
     "cellMetadata": {
      "byteLimit": 2048000,
      "rowLimit": 10000
     },
     "inputWidgets": {},
     "nuid": "d74c5b82-3112-4ab8-a3db-30e1b94c62e3",
     "showTitle": false,
     "tableResultSettingsMap": {},
     "title": ""
    }
   },
   "outputs": [],
   "source": [
    "%run \".../3.0 Wallmart Dataset/3.1 - Autenticações e Funções/3.1.2 - Funções comuns\""
   ]
  },
  {
   "cell_type": "code",
   "execution_count": 0,
   "metadata": {
    "application/vnd.databricks.v1+cell": {
     "cellMetadata": {
      "byteLimit": 2048000,
      "rowLimit": 10000
     },
     "inputWidgets": {},
     "nuid": "bf081174-d35d-4055-932f-0f4d09c7fdc1",
     "showTitle": false,
     "tableResultSettingsMap": {},
     "title": ""
    }
   },
   "outputs": [],
   "source": [
    "#Importação dos tipos de dados\n",
    "from pyspark.sql.types import StructType, StructField, IntegerType, StringType, DoubleType\n",
    "from pyspark.sql.functions import col, current_timestamp\n",
    "from pyspark.sql.functions import date_format\n",
    "from pyspark.sql.functions import *\n",
    "from pyspark.sql import SparkSession\n",
    "\n"
   ]
  },
  {
   "cell_type": "code",
   "execution_count": 0,
   "metadata": {
    "application/vnd.databricks.v1+cell": {
     "cellMetadata": {
      "byteLimit": 2048000,
      "rowLimit": 10000
     },
     "inputWidgets": {},
     "nuid": "bfd96c55-1315-48ca-9ec8-d554b2bf95c6",
     "showTitle": false,
     "tableResultSettingsMap": {},
     "title": ""
    }
   },
   "outputs": [
    {
     "output_type": "stream",
     "name": "stdout",
     "output_type": "stream",
     "text": [
      "Out[15]: [FileInfo(path='dbfs:/user/hive/warehouse/3_2_sales_data_census_bureau/_SUCCESS', name='_SUCCESS', size=0, modificationTime=1736720344000),\n FileInfo(path='dbfs:/user/hive/warehouse/3_2_sales_data_census_bureau/_committed_699435901724696853', name='_committed_699435901724696853', size=3192, modificationTime=1736720344000),\n FileInfo(path='dbfs:/user/hive/warehouse/3_2_sales_data_census_bureau/_started_699435901724696853', name='_started_699435901724696853', size=0, modificationTime=1736720342000),\n FileInfo(path='dbfs:/user/hive/warehouse/3_2_sales_data_census_bureau/part-00000-tid-699435901724696853-395ca565-0cf8-4859-b36f-d64c211b768d-588-1-c000.snappy.parquet', name='part-00000-tid-699435901724696853-395ca565-0cf8-4859-b36f-d64c211b768d-588-1-c000.snappy.parquet', size=3910, modificationTime=1736720342000),\n FileInfo(path='dbfs:/user/hive/warehouse/3_2_sales_data_census_bureau/part-00001-tid-699435901724696853-395ca565-0cf8-4859-b36f-d64c211b768d-589-1-c000.snappy.parquet', name='part-00001-tid-699435901724696853-395ca565-0cf8-4859-b36f-d64c211b768d-589-1-c000.snappy.parquet', size=3832, modificationTime=1736720342000),\n FileInfo(path='dbfs:/user/hive/warehouse/3_2_sales_data_census_bureau/part-00002-tid-699435901724696853-395ca565-0cf8-4859-b36f-d64c211b768d-590-1-c000.snappy.parquet', name='part-00002-tid-699435901724696853-395ca565-0cf8-4859-b36f-d64c211b768d-590-1-c000.snappy.parquet', size=3501, modificationTime=1736720342000),\n FileInfo(path='dbfs:/user/hive/warehouse/3_2_sales_data_census_bureau/part-00003-tid-699435901724696853-395ca565-0cf8-4859-b36f-d64c211b768d-591-1-c000.snappy.parquet', name='part-00003-tid-699435901724696853-395ca565-0cf8-4859-b36f-d64c211b768d-591-1-c000.snappy.parquet', size=3677, modificationTime=1736720342000),\n FileInfo(path='dbfs:/user/hive/warehouse/3_2_sales_data_census_bureau/part-00004-tid-699435901724696853-395ca565-0cf8-4859-b36f-d64c211b768d-592-1-c000.snappy.parquet', name='part-00004-tid-699435901724696853-395ca565-0cf8-4859-b36f-d64c211b768d-592-1-c000.snappy.parquet', size=3674, modificationTime=1736720342000),\n FileInfo(path='dbfs:/user/hive/warehouse/3_2_sales_data_census_bureau/part-00005-tid-699435901724696853-395ca565-0cf8-4859-b36f-d64c211b768d-593-1-c000.snappy.parquet', name='part-00005-tid-699435901724696853-395ca565-0cf8-4859-b36f-d64c211b768d-593-1-c000.snappy.parquet', size=3803, modificationTime=1736720342000),\n FileInfo(path='dbfs:/user/hive/warehouse/3_2_sales_data_census_bureau/part-00006-tid-699435901724696853-395ca565-0cf8-4859-b36f-d64c211b768d-594-1-c000.snappy.parquet', name='part-00006-tid-699435901724696853-395ca565-0cf8-4859-b36f-d64c211b768d-594-1-c000.snappy.parquet', size=3500, modificationTime=1736720342000),\n FileInfo(path='dbfs:/user/hive/warehouse/3_2_sales_data_census_bureau/part-00007-tid-699435901724696853-395ca565-0cf8-4859-b36f-d64c211b768d-595-1-c000.snappy.parquet', name='part-00007-tid-699435901724696853-395ca565-0cf8-4859-b36f-d64c211b768d-595-1-c000.snappy.parquet', size=3661, modificationTime=1736720342000),\n FileInfo(path='dbfs:/user/hive/warehouse/3_2_sales_data_census_bureau/part-00008-tid-699435901724696853-395ca565-0cf8-4859-b36f-d64c211b768d-596-1-c000.snappy.parquet', name='part-00008-tid-699435901724696853-395ca565-0cf8-4859-b36f-d64c211b768d-596-1-c000.snappy.parquet', size=3820, modificationTime=1736720342000),\n FileInfo(path='dbfs:/user/hive/warehouse/3_2_sales_data_census_bureau/part-00009-tid-699435901724696853-395ca565-0cf8-4859-b36f-d64c211b768d-597-1-c000.snappy.parquet', name='part-00009-tid-699435901724696853-395ca565-0cf8-4859-b36f-d64c211b768d-597-1-c000.snappy.parquet', size=3545, modificationTime=1736720342000),\n FileInfo(path='dbfs:/user/hive/warehouse/3_2_sales_data_census_bureau/part-00010-tid-699435901724696853-395ca565-0cf8-4859-b36f-d64c211b768d-598-1-c000.snappy.parquet', name='part-00010-tid-699435901724696853-395ca565-0cf8-4859-b36f-d64c211b768d-598-1-c000.snappy.parquet', size=3734, modificationTime=1736720343000),\n FileInfo(path='dbfs:/user/hive/warehouse/3_2_sales_data_census_bureau/part-00011-tid-699435901724696853-395ca565-0cf8-4859-b36f-d64c211b768d-599-1-c000.snappy.parquet', name='part-00011-tid-699435901724696853-395ca565-0cf8-4859-b36f-d64c211b768d-599-1-c000.snappy.parquet', size=3713, modificationTime=1736720342000),\n FileInfo(path='dbfs:/user/hive/warehouse/3_2_sales_data_census_bureau/part-00012-tid-699435901724696853-395ca565-0cf8-4859-b36f-d64c211b768d-600-1-c000.snappy.parquet', name='part-00012-tid-699435901724696853-395ca565-0cf8-4859-b36f-d64c211b768d-600-1-c000.snappy.parquet', size=3723, modificationTime=1736720343000),\n FileInfo(path='dbfs:/user/hive/warehouse/3_2_sales_data_census_bureau/part-00013-tid-699435901724696853-395ca565-0cf8-4859-b36f-d64c211b768d-601-1-c000.snappy.parquet', name='part-00013-tid-699435901724696853-395ca565-0cf8-4859-b36f-d64c211b768d-601-1-c000.snappy.parquet', size=3552, modificationTime=1736720343000),\n FileInfo(path='dbfs:/user/hive/warehouse/3_2_sales_data_census_bureau/part-00014-tid-699435901724696853-395ca565-0cf8-4859-b36f-d64c211b768d-602-1-c000.snappy.parquet', name='part-00014-tid-699435901724696853-395ca565-0cf8-4859-b36f-d64c211b768d-602-1-c000.snappy.parquet', size=3821, modificationTime=1736720342000),\n FileInfo(path='dbfs:/user/hive/warehouse/3_2_sales_data_census_bureau/part-00015-tid-699435901724696853-395ca565-0cf8-4859-b36f-d64c211b768d-603-1-c000.snappy.parquet', name='part-00015-tid-699435901724696853-395ca565-0cf8-4859-b36f-d64c211b768d-603-1-c000.snappy.parquet', size=3759, modificationTime=1736720343000),\n FileInfo(path='dbfs:/user/hive/warehouse/3_2_sales_data_census_bureau/part-00016-tid-699435901724696853-395ca565-0cf8-4859-b36f-d64c211b768d-604-1-c000.snappy.parquet', name='part-00016-tid-699435901724696853-395ca565-0cf8-4859-b36f-d64c211b768d-604-1-c000.snappy.parquet', size=3847, modificationTime=1736720343000),\n FileInfo(path='dbfs:/user/hive/warehouse/3_2_sales_data_census_bureau/part-00017-tid-699435901724696853-395ca565-0cf8-4859-b36f-d64c211b768d-605-1-c000.snappy.parquet', name='part-00017-tid-699435901724696853-395ca565-0cf8-4859-b36f-d64c211b768d-605-1-c000.snappy.parquet', size=3820, modificationTime=1736720343000),\n FileInfo(path='dbfs:/user/hive/warehouse/3_2_sales_data_census_bureau/part-00018-tid-699435901724696853-395ca565-0cf8-4859-b36f-d64c211b768d-606-1-c000.snappy.parquet', name='part-00018-tid-699435901724696853-395ca565-0cf8-4859-b36f-d64c211b768d-606-1-c000.snappy.parquet', size=3504, modificationTime=1736720343000),\n FileInfo(path='dbfs:/user/hive/warehouse/3_2_sales_data_census_bureau/part-00019-tid-699435901724696853-395ca565-0cf8-4859-b36f-d64c211b768d-607-1-c000.snappy.parquet', name='part-00019-tid-699435901724696853-395ca565-0cf8-4859-b36f-d64c211b768d-607-1-c000.snappy.parquet', size=3734, modificationTime=1736720343000),\n FileInfo(path='dbfs:/user/hive/warehouse/3_2_sales_data_census_bureau/part-00020-tid-699435901724696853-395ca565-0cf8-4859-b36f-d64c211b768d-608-1-c000.snappy.parquet', name='part-00020-tid-699435901724696853-395ca565-0cf8-4859-b36f-d64c211b768d-608-1-c000.snappy.parquet', size=3720, modificationTime=1736720343000),\n FileInfo(path='dbfs:/user/hive/warehouse/3_2_sales_data_census_bureau/part-00021-tid-699435901724696853-395ca565-0cf8-4859-b36f-d64c211b768d-609-1-c000.snappy.parquet', name='part-00021-tid-699435901724696853-395ca565-0cf8-4859-b36f-d64c211b768d-609-1-c000.snappy.parquet', size=3798, modificationTime=1736720343000),\n FileInfo(path='dbfs:/user/hive/warehouse/3_2_sales_data_census_bureau/part-00022-tid-699435901724696853-395ca565-0cf8-4859-b36f-d64c211b768d-610-1-c000.snappy.parquet', name='part-00022-tid-699435901724696853-395ca565-0cf8-4859-b36f-d64c211b768d-610-1-c000.snappy.parquet', size=3535, modificationTime=1736720343000),\n FileInfo(path='dbfs:/user/hive/warehouse/3_2_sales_data_census_bureau/part-00023-tid-699435901724696853-395ca565-0cf8-4859-b36f-d64c211b768d-611-1-c000.snappy.parquet', name='part-00023-tid-699435901724696853-395ca565-0cf8-4859-b36f-d64c211b768d-611-1-c000.snappy.parquet', size=3680, modificationTime=1736720343000),\n FileInfo(path='dbfs:/user/hive/warehouse/3_2_sales_data_census_bureau/part-00024-tid-699435901724696853-395ca565-0cf8-4859-b36f-d64c211b768d-612-1-c000.snappy.parquet', name='part-00024-tid-699435901724696853-395ca565-0cf8-4859-b36f-d64c211b768d-612-1-c000.snappy.parquet', size=3915, modificationTime=1736720344000),\n FileInfo(path='dbfs:/user/hive/warehouse/3_2_sales_data_census_bureau/part-00025-tid-699435901724696853-395ca565-0cf8-4859-b36f-d64c211b768d-613-1-c000.snappy.parquet', name='part-00025-tid-699435901724696853-395ca565-0cf8-4859-b36f-d64c211b768d-613-1-c000.snappy.parquet', size=3634, modificationTime=1736720344000),\n FileInfo(path='dbfs:/user/hive/warehouse/3_2_sales_data_census_bureau/part-00026-tid-699435901724696853-395ca565-0cf8-4859-b36f-d64c211b768d-614-1-c000.snappy.parquet', name='part-00026-tid-699435901724696853-395ca565-0cf8-4859-b36f-d64c211b768d-614-1-c000.snappy.parquet', size=3646, modificationTime=1736720344000),\n FileInfo(path='dbfs:/user/hive/warehouse/3_2_sales_data_census_bureau/part-00027-tid-699435901724696853-395ca565-0cf8-4859-b36f-d64c211b768d-615-1-c000.snappy.parquet', name='part-00027-tid-699435901724696853-395ca565-0cf8-4859-b36f-d64c211b768d-615-1-c000.snappy.parquet', size=3736, modificationTime=1736720344000),\n FileInfo(path='dbfs:/user/hive/warehouse/3_2_sales_data_census_bureau/part-00028-tid-699435901724696853-395ca565-0cf8-4859-b36f-d64c211b768d-616-1-c000.snappy.parquet', name='part-00028-tid-699435901724696853-395ca565-0cf8-4859-b36f-d64c211b768d-616-1-c000.snappy.parquet', size=3838, modificationTime=1736720344000),\n FileInfo(path='dbfs:/user/hive/warehouse/3_2_sales_data_census_bureau/part-00029-tid-699435901724696853-395ca565-0cf8-4859-b36f-d64c211b768d-617-1-c000.snappy.parquet', name='part-00029-tid-699435901724696853-395ca565-0cf8-4859-b36f-d64c211b768d-617-1-c000.snappy.parquet', size=3544, modificationTime=1736720344000),\n FileInfo(path='dbfs:/user/hive/warehouse/3_2_sales_data_census_bureau/part-00030-tid-699435901724696853-395ca565-0cf8-4859-b36f-d64c211b768d-618-1-c000.snappy.parquet', name='part-00030-tid-699435901724696853-395ca565-0cf8-4859-b36f-d64c211b768d-618-1-c000.snappy.parquet', size=3757, modificationTime=1736720344000),\n FileInfo(path='dbfs:/user/hive/warehouse/3_2_sales_data_census_bureau/part-00031-tid-699435901724696853-395ca565-0cf8-4859-b36f-d64c211b768d-619-1-c000.snappy.parquet', name='part-00031-tid-699435901724696853-395ca565-0cf8-4859-b36f-d64c211b768d-619-1-c000.snappy.parquet', size=3698, modificationTime=1736720344000)]"
     ]
    }
   ],
   "source": [
    "dbutils.fs.ls(\"/user/hive/warehouse/3_2_sales_data_census_bureau\")"
   ]
  },
  {
   "cell_type": "code",
   "execution_count": 0,
   "metadata": {
    "application/vnd.databricks.v1+cell": {
     "cellMetadata": {
      "byteLimit": 2048000,
      "rowLimit": 10000
     },
     "inputWidgets": {},
     "nuid": "fa81b48c-9571-45fd-9aa3-8a0f3d79be4c",
     "showTitle": false,
     "tableResultSettingsMap": {},
     "title": ""
    }
   },
   "outputs": [],
   "source": [
    "#Importação dos dados das provas\n",
    "census_table_df = spark.read.parquet(\"/user/hive/warehouse/3_2_sales_data_census_bureau\")\n",
    "\n",
    "# Mostrar os dados carregados\n",
    "census_table_df.createOrReplaceTempView(\"Census\")\n"
   ]
  },
  {
   "cell_type": "code",
   "execution_count": 0,
   "metadata": {
    "application/vnd.databricks.v1+cell": {
     "cellMetadata": {
      "byteLimit": 2048000,
      "rowLimit": 10000
     },
     "inputWidgets": {},
     "nuid": "7186825a-a45f-47d0-94d5-aeebdbf9e9ab",
     "showTitle": false,
     "tableResultSettingsMap": {},
     "title": ""
    }
   },
   "outputs": [
    {
     "output_type": "display_data",
     "data": {
      "text/html": [
       "<style scoped>\n",
       "  .table-result-container {\n",
       "    max-height: 300px;\n",
       "    overflow: auto;\n",
       "  }\n",
       "  table, th, td {\n",
       "    border: 1px solid black;\n",
       "    border-collapse: collapse;\n",
       "  }\n",
       "  th, td {\n",
       "    padding: 5px;\n",
       "  }\n",
       "  th {\n",
       "    text-align: left;\n",
       "  }\n",
       "</style><div class='table-result-container'><table class='table-result'><thead style='background-color: white'><tr><th>ORIGEM_DADO</th><th>TIPO_DADO</th><th>CATEGORIA</th><th>VALOR_VENDAS_BI_USD</th><th>MES_ANO</th><th>MES_ANO_INT</th><th>ANO</th><th>ATUALIZADO_EM</th></tr></thead><tbody><tr><td>CENSUS_API</td><td>SM</td><td>RETAIL</td><td>372138</td><td>2013-02</td><td>201302</td><td>2013</td><td>2025-01-12T22:19:00.440+0000</td></tr><tr><td>CENSUS_API</td><td>SM</td><td>RETAIL</td><td>372210</td><td>2013-08</td><td>201308</td><td>2013</td><td>2025-01-12T22:19:00.440+0000</td></tr><tr><td>CENSUS_API</td><td>SM</td><td>RETAIL</td><td>337892</td><td>2011-03</td><td>201103</td><td>2011</td><td>2025-01-12T22:19:00.440+0000</td></tr><tr><td>CENSUS_API</td><td>SM</td><td>RETAIL</td><td>345554</td><td>2011-09</td><td>201109</td><td>2011</td><td>2025-01-12T22:19:00.440+0000</td></tr><tr><td>CENSUS_API</td><td>SM</td><td>RETAIL</td><td>366967</td><td>2013-01</td><td>201301</td><td>2013</td><td>2025-01-12T22:19:00.440+0000</td></tr><tr><td>CENSUS_API</td><td>SM</td><td>RETAIL</td><td>368962</td><td>2013-03</td><td>201303</td><td>2013</td><td>2025-01-12T22:19:00.440+0000</td></tr><tr><td>CENSUS_API</td><td>SM</td><td>RETAIL</td><td>367040</td><td>2013-04</td><td>201304</td><td>2013</td><td>2025-01-12T22:19:00.440+0000</td></tr><tr><td>CENSUS_API</td><td>SM</td><td>RETAIL</td><td>369500</td><td>2013-05</td><td>201305</td><td>2013</td><td>2025-01-12T22:19:00.440+0000</td></tr><tr><td>CENSUS_API</td><td>SM</td><td>RETAIL</td><td>370730</td><td>2013-06</td><td>201306</td><td>2013</td><td>2025-01-12T22:19:00.440+0000</td></tr><tr><td>CENSUS_API</td><td>SM</td><td>RETAIL</td><td>373090</td><td>2013-07</td><td>201307</td><td>2013</td><td>2025-01-12T22:19:00.440+0000</td></tr><tr><td>CENSUS_API</td><td>SM</td><td>RETAIL</td><td>372302</td><td>2013-09</td><td>201309</td><td>2013</td><td>2025-01-12T22:19:00.440+0000</td></tr><tr><td>CENSUS_API</td><td>SM</td><td>RETAIL</td><td>373253</td><td>2013-10</td><td>201310</td><td>2013</td><td>2025-01-12T22:19:00.440+0000</td></tr><tr><td>CENSUS_API</td><td>SM</td><td>RETAIL</td><td>373756</td><td>2013-11</td><td>201311</td><td>2013</td><td>2025-01-12T22:19:00.440+0000</td></tr><tr><td>CENSUS_API</td><td>SM</td><td>RETAIL</td><td>376445</td><td>2013-12</td><td>201312</td><td>2013</td><td>2025-01-12T22:19:00.440+0000</td></tr><tr><td>CENSUS_API</td><td>SM</td><td>RETAIL</td><td>332141</td><td>2011-01</td><td>201101</td><td>2011</td><td>2025-01-12T22:19:00.440+0000</td></tr><tr><td>CENSUS_API</td><td>SM</td><td>RETAIL</td><td>334635</td><td>2011-02</td><td>201102</td><td>2011</td><td>2025-01-12T22:19:00.440+0000</td></tr><tr><td>CENSUS_API</td><td>SM</td><td>RETAIL</td><td>339711</td><td>2011-04</td><td>201104</td><td>2011</td><td>2025-01-12T22:19:00.440+0000</td></tr><tr><td>CENSUS_API</td><td>SM</td><td>RETAIL</td><td>338974</td><td>2011-05</td><td>201105</td><td>2011</td><td>2025-01-12T22:19:00.440+0000</td></tr><tr><td>CENSUS_API</td><td>SM</td><td>RETAIL</td><td>341643</td><td>2011-06</td><td>201106</td><td>2011</td><td>2025-01-12T22:19:00.440+0000</td></tr><tr><td>CENSUS_API</td><td>SM</td><td>RETAIL</td><td>341321</td><td>2011-07</td><td>201107</td><td>2011</td><td>2025-01-12T22:19:00.440+0000</td></tr><tr><td>CENSUS_API</td><td>SM</td><td>RETAIL</td><td>341973</td><td>2011-08</td><td>201108</td><td>2011</td><td>2025-01-12T22:19:00.440+0000</td></tr><tr><td>CENSUS_API</td><td>SM</td><td>RETAIL</td><td>347691</td><td>2011-10</td><td>201110</td><td>2011</td><td>2025-01-12T22:19:00.440+0000</td></tr><tr><td>CENSUS_API</td><td>SM</td><td>RETAIL</td><td>349082</td><td>2011-11</td><td>201111</td><td>2011</td><td>2025-01-12T22:19:00.440+0000</td></tr><tr><td>CENSUS_API</td><td>SM</td><td>RETAIL</td><td>349646</td><td>2011-12</td><td>201112</td><td>2011</td><td>2025-01-12T22:19:00.440+0000</td></tr><tr><td>CENSUS_API</td><td>SM</td><td>RETAIL</td><td>352564</td><td>2012-01</td><td>201201</td><td>2012</td><td>2025-01-12T22:19:00.440+0000</td></tr><tr><td>CENSUS_API</td><td>SM</td><td>RETAIL</td><td>357350</td><td>2012-02</td><td>201202</td><td>2012</td><td>2025-01-12T22:19:00.440+0000</td></tr><tr><td>CENSUS_API</td><td>SM</td><td>RETAIL</td><td>358627</td><td>2012-03</td><td>201203</td><td>2012</td><td>2025-01-12T22:19:00.440+0000</td></tr><tr><td>CENSUS_API</td><td>SM</td><td>RETAIL</td><td>356607</td><td>2012-04</td><td>201204</td><td>2012</td><td>2025-01-12T22:19:00.440+0000</td></tr><tr><td>CENSUS_API</td><td>SM</td><td>RETAIL</td><td>355867</td><td>2012-05</td><td>201205</td><td>2012</td><td>2025-01-12T22:19:00.440+0000</td></tr><tr><td>CENSUS_API</td><td>SM</td><td>RETAIL</td><td>352053</td><td>2012-06</td><td>201206</td><td>2012</td><td>2025-01-12T22:19:00.440+0000</td></tr><tr><td>CENSUS_API</td><td>SM</td><td>RETAIL</td><td>353688</td><td>2012-07</td><td>201207</td><td>2012</td><td>2025-01-12T22:19:00.440+0000</td></tr><tr><td>CENSUS_API</td><td>SM</td><td>RETAIL</td><td>358499</td><td>2012-08</td><td>201208</td><td>2012</td><td>2025-01-12T22:19:00.440+0000</td></tr><tr><td>CENSUS_API</td><td>SM</td><td>RETAIL</td><td>361272</td><td>2012-09</td><td>201209</td><td>2012</td><td>2025-01-12T22:19:00.440+0000</td></tr><tr><td>CENSUS_API</td><td>SM</td><td>RETAIL</td><td>361685</td><td>2012-10</td><td>201210</td><td>2012</td><td>2025-01-12T22:19:00.440+0000</td></tr><tr><td>CENSUS_API</td><td>SM</td><td>RETAIL</td><td>362788</td><td>2012-11</td><td>201211</td><td>2012</td><td>2025-01-12T22:19:00.440+0000</td></tr><tr><td>CENSUS_API</td><td>SM</td><td>RETAIL</td><td>364127</td><td>2012-12</td><td>201212</td><td>2012</td><td>2025-01-12T22:19:00.440+0000</td></tr><tr><td>CENSUS_API</td><td>SM</td><td>RETAIL</td><td>308229</td><td>2010-01</td><td>201001</td><td>2010</td><td>2025-01-12T22:19:00.440+0000</td></tr><tr><td>CENSUS_API</td><td>SM</td><td>RETAIL</td><td>308457</td><td>2010-02</td><td>201002</td><td>2010</td><td>2025-01-12T22:19:00.440+0000</td></tr><tr><td>CENSUS_API</td><td>SM</td><td>RETAIL</td><td>315743</td><td>2010-03</td><td>201003</td><td>2010</td><td>2025-01-12T22:19:00.440+0000</td></tr><tr><td>CENSUS_API</td><td>SM</td><td>RETAIL</td><td>318696</td><td>2010-04</td><td>201004</td><td>2010</td><td>2025-01-12T22:19:00.440+0000</td></tr><tr><td>CENSUS_API</td><td>SM</td><td>RETAIL</td><td>315409</td><td>2010-05</td><td>201005</td><td>2010</td><td>2025-01-12T22:19:00.440+0000</td></tr><tr><td>CENSUS_API</td><td>SM</td><td>RETAIL</td><td>314770</td><td>2010-06</td><td>201006</td><td>2010</td><td>2025-01-12T22:19:00.440+0000</td></tr><tr><td>CENSUS_API</td><td>SM</td><td>RETAIL</td><td>315684</td><td>2010-07</td><td>201007</td><td>2010</td><td>2025-01-12T22:19:00.440+0000</td></tr><tr><td>CENSUS_API</td><td>SM</td><td>RETAIL</td><td>317008</td><td>2010-08</td><td>201008</td><td>2010</td><td>2025-01-12T22:19:00.440+0000</td></tr><tr><td>CENSUS_API</td><td>SM</td><td>RETAIL</td><td>320014</td><td>2010-09</td><td>201009</td><td>2010</td><td>2025-01-12T22:19:00.440+0000</td></tr><tr><td>CENSUS_API</td><td>SM</td><td>RETAIL</td><td>323990</td><td>2010-10</td><td>201010</td><td>2010</td><td>2025-01-12T22:19:00.440+0000</td></tr><tr><td>CENSUS_API</td><td>SM</td><td>RETAIL</td><td>327341</td><td>2010-11</td><td>201011</td><td>2010</td><td>2025-01-12T22:19:00.440+0000</td></tr><tr><td>CENSUS_API</td><td>SM</td><td>RETAIL</td><td>329670</td><td>2010-12</td><td>201012</td><td>2010</td><td>2025-01-12T22:19:00.440+0000</td></tr></tbody></table></div>"
      ]
     },
     "metadata": {
      "application/vnd.databricks.v1+output": {
       "addedWidgets": {},
       "aggData": [],
       "aggError": "",
       "aggOverflow": false,
       "aggSchema": [],
       "aggSeriesLimitReached": false,
       "aggType": "",
       "arguments": {},
       "columnCustomDisplayInfos": {},
       "data": [
        [
         "CENSUS_API",
         "SM",
         "RETAIL",
         "372138",
         "2013-02",
         201302,
         2013,
         "2025-01-12T22:19:00.440+0000"
        ],
        [
         "CENSUS_API",
         "SM",
         "RETAIL",
         "372210",
         "2013-08",
         201308,
         2013,
         "2025-01-12T22:19:00.440+0000"
        ],
        [
         "CENSUS_API",
         "SM",
         "RETAIL",
         "337892",
         "2011-03",
         201103,
         2011,
         "2025-01-12T22:19:00.440+0000"
        ],
        [
         "CENSUS_API",
         "SM",
         "RETAIL",
         "345554",
         "2011-09",
         201109,
         2011,
         "2025-01-12T22:19:00.440+0000"
        ],
        [
         "CENSUS_API",
         "SM",
         "RETAIL",
         "366967",
         "2013-01",
         201301,
         2013,
         "2025-01-12T22:19:00.440+0000"
        ],
        [
         "CENSUS_API",
         "SM",
         "RETAIL",
         "368962",
         "2013-03",
         201303,
         2013,
         "2025-01-12T22:19:00.440+0000"
        ],
        [
         "CENSUS_API",
         "SM",
         "RETAIL",
         "367040",
         "2013-04",
         201304,
         2013,
         "2025-01-12T22:19:00.440+0000"
        ],
        [
         "CENSUS_API",
         "SM",
         "RETAIL",
         "369500",
         "2013-05",
         201305,
         2013,
         "2025-01-12T22:19:00.440+0000"
        ],
        [
         "CENSUS_API",
         "SM",
         "RETAIL",
         "370730",
         "2013-06",
         201306,
         2013,
         "2025-01-12T22:19:00.440+0000"
        ],
        [
         "CENSUS_API",
         "SM",
         "RETAIL",
         "373090",
         "2013-07",
         201307,
         2013,
         "2025-01-12T22:19:00.440+0000"
        ],
        [
         "CENSUS_API",
         "SM",
         "RETAIL",
         "372302",
         "2013-09",
         201309,
         2013,
         "2025-01-12T22:19:00.440+0000"
        ],
        [
         "CENSUS_API",
         "SM",
         "RETAIL",
         "373253",
         "2013-10",
         201310,
         2013,
         "2025-01-12T22:19:00.440+0000"
        ],
        [
         "CENSUS_API",
         "SM",
         "RETAIL",
         "373756",
         "2013-11",
         201311,
         2013,
         "2025-01-12T22:19:00.440+0000"
        ],
        [
         "CENSUS_API",
         "SM",
         "RETAIL",
         "376445",
         "2013-12",
         201312,
         2013,
         "2025-01-12T22:19:00.440+0000"
        ],
        [
         "CENSUS_API",
         "SM",
         "RETAIL",
         "332141",
         "2011-01",
         201101,
         2011,
         "2025-01-12T22:19:00.440+0000"
        ],
        [
         "CENSUS_API",
         "SM",
         "RETAIL",
         "334635",
         "2011-02",
         201102,
         2011,
         "2025-01-12T22:19:00.440+0000"
        ],
        [
         "CENSUS_API",
         "SM",
         "RETAIL",
         "339711",
         "2011-04",
         201104,
         2011,
         "2025-01-12T22:19:00.440+0000"
        ],
        [
         "CENSUS_API",
         "SM",
         "RETAIL",
         "338974",
         "2011-05",
         201105,
         2011,
         "2025-01-12T22:19:00.440+0000"
        ],
        [
         "CENSUS_API",
         "SM",
         "RETAIL",
         "341643",
         "2011-06",
         201106,
         2011,
         "2025-01-12T22:19:00.440+0000"
        ],
        [
         "CENSUS_API",
         "SM",
         "RETAIL",
         "341321",
         "2011-07",
         201107,
         2011,
         "2025-01-12T22:19:00.440+0000"
        ],
        [
         "CENSUS_API",
         "SM",
         "RETAIL",
         "341973",
         "2011-08",
         201108,
         2011,
         "2025-01-12T22:19:00.440+0000"
        ],
        [
         "CENSUS_API",
         "SM",
         "RETAIL",
         "347691",
         "2011-10",
         201110,
         2011,
         "2025-01-12T22:19:00.440+0000"
        ],
        [
         "CENSUS_API",
         "SM",
         "RETAIL",
         "349082",
         "2011-11",
         201111,
         2011,
         "2025-01-12T22:19:00.440+0000"
        ],
        [
         "CENSUS_API",
         "SM",
         "RETAIL",
         "349646",
         "2011-12",
         201112,
         2011,
         "2025-01-12T22:19:00.440+0000"
        ],
        [
         "CENSUS_API",
         "SM",
         "RETAIL",
         "352564",
         "2012-01",
         201201,
         2012,
         "2025-01-12T22:19:00.440+0000"
        ],
        [
         "CENSUS_API",
         "SM",
         "RETAIL",
         "357350",
         "2012-02",
         201202,
         2012,
         "2025-01-12T22:19:00.440+0000"
        ],
        [
         "CENSUS_API",
         "SM",
         "RETAIL",
         "358627",
         "2012-03",
         201203,
         2012,
         "2025-01-12T22:19:00.440+0000"
        ],
        [
         "CENSUS_API",
         "SM",
         "RETAIL",
         "356607",
         "2012-04",
         201204,
         2012,
         "2025-01-12T22:19:00.440+0000"
        ],
        [
         "CENSUS_API",
         "SM",
         "RETAIL",
         "355867",
         "2012-05",
         201205,
         2012,
         "2025-01-12T22:19:00.440+0000"
        ],
        [
         "CENSUS_API",
         "SM",
         "RETAIL",
         "352053",
         "2012-06",
         201206,
         2012,
         "2025-01-12T22:19:00.440+0000"
        ],
        [
         "CENSUS_API",
         "SM",
         "RETAIL",
         "353688",
         "2012-07",
         201207,
         2012,
         "2025-01-12T22:19:00.440+0000"
        ],
        [
         "CENSUS_API",
         "SM",
         "RETAIL",
         "358499",
         "2012-08",
         201208,
         2012,
         "2025-01-12T22:19:00.440+0000"
        ],
        [
         "CENSUS_API",
         "SM",
         "RETAIL",
         "361272",
         "2012-09",
         201209,
         2012,
         "2025-01-12T22:19:00.440+0000"
        ],
        [
         "CENSUS_API",
         "SM",
         "RETAIL",
         "361685",
         "2012-10",
         201210,
         2012,
         "2025-01-12T22:19:00.440+0000"
        ],
        [
         "CENSUS_API",
         "SM",
         "RETAIL",
         "362788",
         "2012-11",
         201211,
         2012,
         "2025-01-12T22:19:00.440+0000"
        ],
        [
         "CENSUS_API",
         "SM",
         "RETAIL",
         "364127",
         "2012-12",
         201212,
         2012,
         "2025-01-12T22:19:00.440+0000"
        ],
        [
         "CENSUS_API",
         "SM",
         "RETAIL",
         "308229",
         "2010-01",
         201001,
         2010,
         "2025-01-12T22:19:00.440+0000"
        ],
        [
         "CENSUS_API",
         "SM",
         "RETAIL",
         "308457",
         "2010-02",
         201002,
         2010,
         "2025-01-12T22:19:00.440+0000"
        ],
        [
         "CENSUS_API",
         "SM",
         "RETAIL",
         "315743",
         "2010-03",
         201003,
         2010,
         "2025-01-12T22:19:00.440+0000"
        ],
        [
         "CENSUS_API",
         "SM",
         "RETAIL",
         "318696",
         "2010-04",
         201004,
         2010,
         "2025-01-12T22:19:00.440+0000"
        ],
        [
         "CENSUS_API",
         "SM",
         "RETAIL",
         "315409",
         "2010-05",
         201005,
         2010,
         "2025-01-12T22:19:00.440+0000"
        ],
        [
         "CENSUS_API",
         "SM",
         "RETAIL",
         "314770",
         "2010-06",
         201006,
         2010,
         "2025-01-12T22:19:00.440+0000"
        ],
        [
         "CENSUS_API",
         "SM",
         "RETAIL",
         "315684",
         "2010-07",
         201007,
         2010,
         "2025-01-12T22:19:00.440+0000"
        ],
        [
         "CENSUS_API",
         "SM",
         "RETAIL",
         "317008",
         "2010-08",
         201008,
         2010,
         "2025-01-12T22:19:00.440+0000"
        ],
        [
         "CENSUS_API",
         "SM",
         "RETAIL",
         "320014",
         "2010-09",
         201009,
         2010,
         "2025-01-12T22:19:00.440+0000"
        ],
        [
         "CENSUS_API",
         "SM",
         "RETAIL",
         "323990",
         "2010-10",
         201010,
         2010,
         "2025-01-12T22:19:00.440+0000"
        ],
        [
         "CENSUS_API",
         "SM",
         "RETAIL",
         "327341",
         "2010-11",
         201011,
         2010,
         "2025-01-12T22:19:00.440+0000"
        ],
        [
         "CENSUS_API",
         "SM",
         "RETAIL",
         "329670",
         "2010-12",
         201012,
         2010,
         "2025-01-12T22:19:00.440+0000"
        ]
       ],
       "datasetInfos": [],
       "dbfsResultPath": null,
       "isJsonSchema": true,
       "metadata": {},
       "overflow": false,
       "plotOptions": {
        "customPlotOptions": {},
        "displayType": "table",
        "pivotAggregation": null,
        "pivotColumns": null,
        "xColumns": null,
        "yColumns": null
       },
       "removedWidgets": [],
       "schema": [
        {
         "metadata": "{}",
         "name": "ORIGEM_DADO",
         "type": "\"string\""
        },
        {
         "metadata": "{}",
         "name": "TIPO_DADO",
         "type": "\"string\""
        },
        {
         "metadata": "{}",
         "name": "CATEGORIA",
         "type": "\"string\""
        },
        {
         "metadata": "{}",
         "name": "VALOR_VENDAS_BI_USD",
         "type": "\"string\""
        },
        {
         "metadata": "{}",
         "name": "MES_ANO",
         "type": "\"string\""
        },
        {
         "metadata": "{}",
         "name": "MES_ANO_INT",
         "type": "\"long\""
        },
        {
         "metadata": "{}",
         "name": "ANO",
         "type": "\"integer\""
        },
        {
         "metadata": "{}",
         "name": "ATUALIZADO_EM",
         "type": "\"timestamp\""
        }
       ],
       "type": "table"
      }
     },
     "output_type": "display_data"
    }
   ],
   "source": [
    "resultado = spark.sql(\"\"\"\n",
    "                      SELECT\n",
    "                        'CENSUS_API'            AS ORIGEM_DADO, \n",
    "                        data_type_code          AS TIPO_DADO,\n",
    "                        category_code           AS CATEGORIA,\n",
    "                        cell_value              AS VALOR_VENDAS_BI_USD,\n",
    "                        time                    AS MES_ANO,\n",
    "                        CAST(REPLACE(time,'-','') AS BIGINT)         AS MES_ANO_INT,\n",
    "                        year                    AS ANO,\n",
    "                        ingestion_timestamp     AS ATUALIZADO_EM\n",
    "                      FROM Census\n",
    "                      WHERE category_code = 'RETAIL'\n",
    "                      AND data_type_code = 'SM'\n",
    "                      AND seasonally_adj = 'yes'\n",
    "                    \"\"\")\n",
    "display(resultado)"
   ]
  },
  {
   "cell_type": "code",
   "execution_count": 0,
   "metadata": {
    "application/vnd.databricks.v1+cell": {
     "cellMetadata": {
      "byteLimit": 2048000,
      "rowLimit": 10000
     },
     "inputWidgets": {},
     "nuid": "965038ac-bdb1-4745-b27d-49f946c9d9e6",
     "showTitle": false,
     "tableResultSettingsMap": {},
     "title": ""
    }
   },
   "outputs": [
    {
     "output_type": "stream",
     "name": "stdout",
     "output_type": "stream",
     "text": [
      "Out[39]: DataFrame[]"
     ]
    }
   ],
   "source": [
    "delta_path = \"/mnt/datalake/3_3_1_Sales_data_census_bureau_silver/delta/\"\n",
    "resultado.write.mode(\"overwrite\").format(\"parquet\").saveAsTable(\"3_3_1_Sales_data_census_bureau_silver\")\n",
    "resultado.write.mode(\"overwrite\").format(\"delta\").save(delta_path)\n",
    "\n",
    "# Opcional: criar uma tabela Delta no catálogo para facilitar consultas\n",
    "spark.sql(f\"CREATE TABLE IF NOT EXISTS 3_3_1_Sales_data_census_bureau_silver USING DELTA LOCATION '{delta_path}'\")\n"
   ]
  }
 ],
 "metadata": {
  "application/vnd.databricks.v1+notebook": {
   "computePreferences": null,
   "dashboards": [],
   "environmentMetadata": null,
   "language": "python",
   "notebookMetadata": {
    "mostRecentlyExecutedCommandWithImplicitDF": {
     "commandId": 2556599564704210,
     "dataframes": [
      "_sqldf"
     ]
    },
    "pythonIndentUnit": 4
   },
   "notebookName": "3.3.1 - Vendas - US Census - Silver",
   "widgets": {}
  }
 },
 "nbformat": 4,
 "nbformat_minor": 0
}
